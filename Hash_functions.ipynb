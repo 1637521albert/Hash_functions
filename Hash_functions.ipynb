{
 "cells": [
  {
   "cell_type": "markdown",
   "metadata": {},
   "source": [
    "Mario Amador Hurtado 1637543\n",
    "\n",
    "Albert Garcia Uría 1637521"
   ]
  },
  {
   "cell_type": "markdown",
   "metadata": {},
   "source": [
    "# **Hash functions**"
   ]
  },
  {
   "cell_type": "markdown",
   "metadata": {},
   "source": [
    "Imports"
   ]
  },
  {
   "cell_type": "code",
   "execution_count": 2,
   "metadata": {},
   "outputs": [],
   "source": [
    "import hashlib\n",
    "from typing import Optional, Tuple"
   ]
  },
  {
   "cell_type": "markdown",
   "metadata": {},
   "source": [
    "## Exercici 1"
   ]
  },
  {
   "cell_type": "code",
   "execution_count": 3,
   "metadata": {},
   "outputs": [
    {
     "name": "stdout",
     "output_type": "stream",
     "text": [
      "0\n"
     ]
    }
   ],
   "source": [
    "def uab_md5(message: str, num_bits: int) -> Optional[int]:\n",
    "    try:\n",
    "        h = hashlib.md5(message.encode()).hexdigest()\n",
    "        hash_int = int(h, 16)\n",
    "        hash_bin = format(hash_int, \"0128b\")\n",
    "        if num_bits > 128 or num_bits <= 0:\n",
    "            raise ValueError()\n",
    "        return int(hash_bin[:num_bits], 2)\n",
    "    except:\n",
    "        return None\n",
    "\n",
    "print(uab_md5(\"hola\", 1))"
   ]
  },
  {
   "cell_type": "markdown",
   "metadata": {},
   "source": [
    "## Exercici 2"
   ]
  },
  {
   "cell_type": "code",
   "execution_count": 18,
   "metadata": {},
   "outputs": [
    {
     "name": "stdout",
     "output_type": "stream",
     "text": [
      "('uatNF', 1012285)\n"
     ]
    }
   ],
   "source": [
    "import random\n",
    "import string\n",
    "\n",
    "def second_preimage(message: str, num_bits: int):\n",
    "    collision = False\n",
    "    i = 0\n",
    "    ref = uab_md5(message, num_bits)\n",
    "\n",
    "    while not collision:\n",
    "        pi = ''.join(random.choices(string.ascii_letters + string.digits, k=5))\n",
    "        pi_hash = uab_md5(pi, num_bits)\n",
    "\n",
    "        if pi != message:\n",
    "            collision = pi_hash == ref\n",
    "            \n",
    "        i += 1\n",
    "    return pi, i-1\n",
    "print(second_preimage(\"hola\", 20)) "
   ]
  },
  {
   "cell_type": "markdown",
   "metadata": {},
   "source": [
    "## Exercici 3"
   ]
  },
  {
   "cell_type": "code",
   "execution_count": 21,
   "metadata": {},
   "outputs": [
    {
     "name": "stdout",
     "output_type": "stream",
     "text": [
      "('f8dcs', 'SlP5w', 1756)\n"
     ]
    }
   ],
   "source": [
    "def collision(num_bits: int) -> Optional[Tuple[str, str, int]]:\n",
    "    hashes = {}\n",
    "    i=0\n",
    "    while True:\n",
    "        pi = ''.join(random.choices(string.ascii_letters + string.digits, k=5))\n",
    "        h = uab_md5(pi, num_bits)\n",
    "\n",
    "        if h in hashes.keys():\n",
    "            if pi not in hashes.values():\n",
    "                return pi, hashes[h], i\n",
    "        \n",
    "        hashes[h] = pi\n",
    "        i += 1\n",
    "    return\n",
    "\n",
    "print(collision(20)) "
   ]
  },
  {
   "cell_type": "markdown",
   "metadata": {},
   "source": [
    "## Exercici 4\n",
    "\n",
    "### Part A"
   ]
  },
  {
   "cell_type": "markdown",
   "metadata": {},
   "source": []
  },
  {
   "cell_type": "markdown",
   "metadata": {},
   "source": [
    "### Part B"
   ]
  },
  {
   "cell_type": "markdown",
   "metadata": {},
   "source": []
  },
  {
   "cell_type": "markdown",
   "metadata": {},
   "source": [
    "## Proves"
   ]
  },
  {
   "cell_type": "code",
   "execution_count": 22,
   "metadata": {},
   "outputs": [
    {
     "name": "stderr",
     "output_type": "stream",
     "text": [
      "test_collision (__main__.TestLab1) ... ok\n",
      "test_second_preimage (__main__.TestLab1) ... ok\n",
      "test_uab_md5 (__main__.TestLab1) ... ok\n",
      "\n",
      "----------------------------------------------------------------------\n",
      "Ran 3 tests in 0.105s\n",
      "\n",
      "OK\n"
     ]
    },
    {
     "data": {
      "text/plain": [
       "<unittest.main.TestProgram at 0x7fc5213260d0>"
      ]
     },
     "execution_count": 22,
     "metadata": {},
     "output_type": "execute_result"
    }
   ],
   "source": [
    "import unittest\n",
    "class TestLab1(unittest.TestCase):\n",
    "    \n",
    "    def test_uab_md5(self):\n",
    "        test_vectors_ok = (\n",
    "        [\"hola\", 100, 381757249806289069081790873225],\n",
    "        [\"hola\", 1, 0],\n",
    "        [\"dfk3874\", 68, 229291433845740375560],\n",
    "        [\"dfk3874\", 64, 14330714615358773472],\n",
    "        [\"Alexandria\", 128, 221630910082124901698625759824682079437],\n",
    "        [\"Alexandria\", 129, None],\n",
    "        [\"Alexandria\", 0, None])\n",
    "        for t in test_vectors_ok:\n",
    "            my_value = uab_md5(t[0], t[1])\n",
    "            print(my_value, t[2])\n",
    "            self.assertEqual(my_value, t[2])\n",
    "\n",
    "    def test_second_preimage(self):\n",
    "        msg = \"find a second preimage\"\n",
    "        for n in range(1, 15):\n",
    "            new_msg, _ = second_preimage(msg, n)\n",
    "            self.assertEqual(uab_md5(new_msg, n), uab_md5(msg, n))\n",
    "            self.assertNotEqual(new_msg, msg)\n",
    "\n",
    "    def test_collision(self):\n",
    "        for n in range(1, 15):\n",
    "            msg1, msg2, _ = collision(n)\n",
    "            self.assertEqual(uab_md5(msg1, n), uab_md5(msg2, n))\n",
    "            self.assertNotEqual(msg1, msg2)\n",
    "unittest.main(argv=[''], verbosity=2, exit=False, buffer=True)"
   ]
  },
  {
   "cell_type": "code",
   "execution_count": null,
   "metadata": {},
   "outputs": [],
   "source": []
  }
 ],
 "metadata": {
  "kernelspec": {
   "display_name": "base",
   "language": "python",
   "name": "python3"
  },
  "language_info": {
   "codemirror_mode": {
    "name": "ipython",
    "version": 3
   },
   "file_extension": ".py",
   "mimetype": "text/x-python",
   "name": "python",
   "nbconvert_exporter": "python",
   "pygments_lexer": "ipython3",
   "version": "3.8.18"
  },
  "vscode": {
   "interpreter": {
    "hash": "40d3a090f54c6569ab1632332b64b2c03c39dcf918b08424e98f38b5ae0af88f"
   }
  }
 },
 "nbformat": 4,
 "nbformat_minor": 2
}
