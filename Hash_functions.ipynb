{
 "cells": [
  {
   "cell_type": "markdown",
   "metadata": {},
   "source": [
    "Mario Amador Hurtado 1637543\n",
    "\n",
    "Albert Garcia Uría 1637521"
   ]
  },
  {
   "cell_type": "markdown",
   "metadata": {},
   "source": [
    "# **Hash functions**"
   ]
  },
  {
   "cell_type": "markdown",
   "metadata": {},
   "source": [
    "Imports"
   ]
  },
  {
   "cell_type": "code",
   "execution_count": 1,
   "metadata": {},
   "outputs": [],
   "source": [
    "import hashlib\n",
    "from typing import Optional, Tuple"
   ]
  },
  {
   "cell_type": "markdown",
   "metadata": {},
   "source": [
    "## Exercici 1"
   ]
  },
  {
   "cell_type": "code",
   "execution_count": 49,
   "metadata": {},
   "outputs": [
    {
     "name": "stdout",
     "output_type": "stream",
     "text": [
      "0\n"
     ]
    }
   ],
   "source": [
    "def uab_md5(message: str, num_bits: int) -> Optional[int]:\n",
    "    try:\n",
    "        h = hashlib.md5(message.encode()).hexdigest()\n",
    "        hash_int = int(h, 16)\n",
    "        hash_bin = format(hash_int, \"0128b\")\n",
    "        if num_bits > 128 or num_bits <= 0:\n",
    "            raise ValueError()\n",
    "        return int(hash_bin[:num_bits], 2)\n",
    "    except:\n",
    "        return None\n",
    "\n",
    "print(uab_md5(\"hola\",1))"
   ]
  },
  {
   "cell_type": "markdown",
   "metadata": {},
   "source": [
    "## Exercici 2"
   ]
  },
  {
   "cell_type": "code",
   "execution_count": 2,
   "metadata": {},
   "outputs": [],
   "source": [
    "def second_preimage(message: str, num_bits: int) -> Optional[Tuple[str, int]]:\n",
    "    pass"
   ]
  },
  {
   "cell_type": "markdown",
   "metadata": {},
   "source": [
    "## Exercici 3"
   ]
  },
  {
   "cell_type": "code",
   "execution_count": 4,
   "metadata": {},
   "outputs": [],
   "source": [
    "def collision(num_bits: int) -> Optional[Tuple[str, str, int]]:\n",
    "    pass"
   ]
  },
  {
   "cell_type": "markdown",
   "metadata": {},
   "source": [
    "## Exercici 4\n",
    "\n",
    "### Part A"
   ]
  },
  {
   "cell_type": "markdown",
   "metadata": {},
   "source": []
  },
  {
   "cell_type": "markdown",
   "metadata": {},
   "source": [
    "### Part B"
   ]
  },
  {
   "cell_type": "markdown",
   "metadata": {},
   "source": []
  },
  {
   "cell_type": "markdown",
   "metadata": {},
   "source": [
    "## Proves"
   ]
  },
  {
   "cell_type": "code",
   "execution_count": 44,
   "metadata": {},
   "outputs": [
    {
     "name": "stderr",
     "output_type": "stream",
     "text": [
      "test_collision (__main__.TestLab1) ... ERROR\n",
      "test_second_preimage (__main__.TestLab1) ... ERROR\n",
      "test_uab_md5 (__main__.TestLab1) ... FAIL\n",
      "\n",
      "======================================================================\n",
      "ERROR: test_collision (__main__.TestLab1)\n",
      "----------------------------------------------------------------------\n",
      "Traceback (most recent call last):\n",
      "  File \"C:\\Users\\34619\\AppData\\Local\\Temp\\ipykernel_4036\\1437394920.py\", line 26, in test_collision\n",
      "    msg1, msg2, _ = collision(n)\n",
      "TypeError: cannot unpack non-iterable NoneType object\n",
      "\n",
      "======================================================================\n",
      "ERROR: test_second_preimage (__main__.TestLab1)\n",
      "----------------------------------------------------------------------\n",
      "Traceback (most recent call last):\n",
      "  File \"C:\\Users\\34619\\AppData\\Local\\Temp\\ipykernel_4036\\1437394920.py\", line 20, in test_second_preimage\n",
      "    new_msg, _ = second_preimage(msg, n)\n",
      "TypeError: cannot unpack non-iterable NoneType object\n",
      "\n",
      "======================================================================\n",
      "FAIL: test_uab_md5 (__main__.TestLab1)\n",
      "----------------------------------------------------------------------\n",
      "Traceback (most recent call last):\n",
      "  File \"C:\\Users\\34619\\AppData\\Local\\Temp\\ipykernel_4036\\1437394920.py\", line 15, in test_uab_md5\n",
      "    self.assertEqual(my_value, t[2])\n",
      "AssertionError: 221630910082124901698625759824682079437 != None\n",
      "\n",
      "----------------------------------------------------------------------\n",
      "Ran 3 tests in 0.004s\n",
      "\n",
      "FAILED (failures=1, errors=2)\n"
     ]
    },
    {
     "data": {
      "text/plain": [
       "<unittest.main.TestProgram at 0x265800764c0>"
      ]
     },
     "execution_count": 44,
     "metadata": {},
     "output_type": "execute_result"
    }
   ],
   "source": [
    "import unittest\n",
    "class TestLab1(unittest.TestCase):\n",
    "    \n",
    "    def test_uab_md5(self):\n",
    "        test_vectors_ok = (\n",
    "        [\"hola\", 100, 381757249806289069081790873225],\n",
    "        [\"hola\", 1, 0],\n",
    "        [\"dfk3874\", 68, 229291433845740375560],\n",
    "        [\"dfk3874\", 64, 14330714615358773472],\n",
    "        [\"Alexandria\", 128, 221630910082124901698625759824682079437],\n",
    "        [\"Alexandria\", 129, None],\n",
    "        [\"Alexandria\", 0, None])\n",
    "        for t in test_vectors_ok:\n",
    "            my_value = uab_md5(t[0], t[1])\n",
    "            self.assertEqual(my_value, t[2])\n",
    "\n",
    "    def test_second_preimage(self):\n",
    "        msg = \"find a second preimage\"\n",
    "        for n in range(1, 15):\n",
    "            new_msg, _ = second_preimage(msg, n)\n",
    "            self.assertEqual(uab_md5(new_msg, n), uab_md5(msg, n))\n",
    "            self.assertNotEqual(new_msg, msg)\n",
    "\n",
    "    def test_collision(self):\n",
    "        for n in range(1, 15):\n",
    "            msg1, msg2, _ = collision(n)\n",
    "            self.assertEqual(uab_md5(msg1, n), uab_md5(msg2, n))\n",
    "            self.assertNotEqual(msg1, msg2)\n",
    "unittest.main(argv=[''], verbosity=2, exit=False, buffer=True)"
   ]
  },
  {
   "cell_type": "code",
   "execution_count": null,
   "metadata": {},
   "outputs": [],
   "source": []
  }
 ],
 "metadata": {
  "kernelspec": {
   "display_name": "myenv",
   "language": "python",
   "name": "python3"
  },
  "language_info": {
   "codemirror_mode": {
    "name": "ipython",
    "version": 3
   },
   "file_extension": ".py",
   "mimetype": "text/x-python",
   "name": "python",
   "nbconvert_exporter": "python",
   "pygments_lexer": "ipython3",
   "version": "3.8.15"
  }
 },
 "nbformat": 4,
 "nbformat_minor": 2
}
